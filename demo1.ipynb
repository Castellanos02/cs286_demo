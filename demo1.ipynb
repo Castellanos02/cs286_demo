{
 "cells": [
  {
   "cell_type": "code",
   "execution_count": 2,
   "id": "b66d6446",
   "metadata": {},
   "outputs": [],
   "source": [
    "import pandas as pd\n",
    "import os"
   ]
  },
  {
   "cell_type": "markdown",
   "id": "4709d435",
   "metadata": {},
   "source": [
    "<h1>1. Dataset Exploration & Understanding</h1>"
   ]
  },
  {
   "cell_type": "code",
   "execution_count": null,
   "id": "0971e710",
   "metadata": {},
   "outputs": [
    {
     "name": "stdout",
     "output_type": "stream",
     "text": [
      "Earliast Date: 03/27/2013\n",
      "Latest Date: 6/8/2013\n",
      "\n",
      "Total Datapoints: 202877\n",
      "Total Labels: 117\n",
      "\n",
      "wifi    187613\n",
      "NaN      10744\n",
      "cell      4520\n",
      "dtype: int64\n"
     ]
    },
    {
     "data": {
      "text/plain": [
       "'\\nactivity\\naudio\\nconversation\\nbluetooth\\ngps\\nphonecharge\\nphonelock\\nwifi\\nwifi_location\\n\\n'"
      ]
     },
     "execution_count": 8,
     "metadata": {},
     "output_type": "execute_result"
    }
   ],
   "source": [
    "# number of partipants\n",
    "'''\n",
    "In the description there are\n",
    "48 participants\n",
    "'''\n",
    "\n",
    "# Days recorded per participant\n",
    "min_date = None\n",
    "max_date = None\n",
    "\n",
    "for file in os.listdir(\"./dataset/calendar/\"):\n",
    "    df = pd.read_csv(f\"./dataset/calendar/{file}\")\n",
    "    if min_date == None and max_date == None:\n",
    "        min_date = df['DATE'].min()\n",
    "        max_date = df['DATE'].max()\n",
    "    else:\n",
    "        if df['DATE'].min() < min_date:\n",
    "            min_date = df['DATE'].min()\n",
    "\n",
    "        if df['DATE'].max() > max_date:\n",
    "            max_date = df['DATE'].max()\n",
    "\n",
    "print(f\"Earliast Date: {min_date}\")\n",
    "print(f\"Latest Date: {max_date}\")\n",
    "print()\n",
    "\n",
    "\n",
    "# Demographic diversity (age, gender)\n",
    "\n",
    "'''\n",
    "48 undergrads and grad students\n",
    "doesn't specify gender\n",
    "'''\n",
    "\n",
    "# Total datapoints and labels\n",
    " \n",
    "total_datapoints = 0\n",
    "total_labels = 0\n",
    "for file in os.listdir(\"./dataset/sensing/gps/\"):\n",
    "    df = pd.read_csv(f\"./dataset/sensing/gps/{file}\")\n",
    "    total_datapoints += df.shape[0]\n",
    "    total_labels += len(df['provider'].unique())\n",
    "\n",
    "print(f\"Total Datapoints: {total_datapoints}\")\n",
    "print(f\"Total Labels: {total_labels}\")\n",
    "print()\n",
    "\n",
    "# Datapoints per label\n",
    "\n",
    "per_label = pd.Series(dtype=\"float64\")  \n",
    "\n",
    "for file in os.listdir(\"./dataset/sensing/gps/\"):\n",
    "    df = pd.read_csv(f\"./dataset/sensing/gps/{file}\")\n",
    "\n",
    "    counts = (\n",
    "        df.groupby(\"provider\", dropna=False)\n",
    "          .agg(rows=(\"provider\", 'size'))\n",
    "    )\n",
    "\n",
    "    per_label = per_label.add(counts['rows'], fill_value=0)\n",
    "\n",
    "per_label = per_label.astype(int).sort_values(ascending=False)\n",
    "print(per_label)\n",
    "\n",
    "# Input streams (accelerometer, gyro, annotations, etc.) \n",
    "\n",
    "'''\n",
    "time\n",
    "provider\n",
    "network_type\n",
    "accuracy\n",
    "latitude\n",
    "longitude\n",
    "altitude\n",
    "bearing\n",
    "speed\n",
    "travelstate\n",
    "'''"
   ]
  },
  {
   "cell_type": "markdown",
   "id": "ae7f9f60",
   "metadata": {},
   "source": [
    "<h1>2. Annotation & Signal Exploration</h1>"
   ]
  },
  {
   "cell_type": "markdown",
   "id": "da964ddd",
   "metadata": {},
   "source": [
    "<h1>3. Signal Preprocessing</h1>"
   ]
  },
  {
   "cell_type": "markdown",
   "id": "0c17a8a8",
   "metadata": {},
   "source": [
    "<h1>4. Windowing Strategies</h1>"
   ]
  },
  {
   "cell_type": "markdown",
   "id": "5b39ff42",
   "metadata": {},
   "source": [
    "<h1>5. Feature Extraction & Analysis</h1>"
   ]
  },
  {
   "cell_type": "markdown",
   "id": "b556a314",
   "metadata": {},
   "source": [
    "<h1>6. Modeling & Evaluation</h1>"
   ]
  }
 ],
 "metadata": {
  "kernelspec": {
   "display_name": "demo",
   "language": "python",
   "name": "python3"
  },
  "language_info": {
   "codemirror_mode": {
    "name": "ipython",
    "version": 3
   },
   "file_extension": ".py",
   "mimetype": "text/x-python",
   "name": "python",
   "nbconvert_exporter": "python",
   "pygments_lexer": "ipython3",
   "version": "3.13.7"
  }
 },
 "nbformat": 4,
 "nbformat_minor": 5
}
